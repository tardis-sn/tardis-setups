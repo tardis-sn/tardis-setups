{
 "cells": [
  {
   "cell_type": "code",
   "execution_count": 8,
   "id": "01b39d21-cb87-420d-b65b-9d2460be3c28",
   "metadata": {},
   "outputs": [],
   "source": [
    "from pathlib import Path\n",
    "from compare import ReferenceComparer"
   ]
  },
  {
   "cell_type": "markdown",
   "id": "44e4b00d",
   "metadata": {},
   "source": [
    "# Find commits to compare\n",
    "\n",
    "By default, the notebook compares last two commits(`ref1hash` is the older one and `ref2hash` is the newer one). You can customise this by changing the `ref1_hash` and `ref2_hash` variables or by providing `REF1_HASH` and `REF2_HASH` commit values. You can also provide custom spectrum paths for the two hashes with respect to the root directory for that commit. "
   ]
  },
  {
   "cell_type": "code",
   "execution_count": 9,
   "id": "e7138950",
   "metadata": {},
   "outputs": [],
   "source": [
    "import os  \n",
    "\n",
    "if os.getenv('CUSTOM_REF1_SPECTRUM_PATH'):\n",
    "    custom_ref1_spectrum_path = os.getenv('CUSTOM_REF1_SPECTRUM_PATH')\n",
    "else:\n",
    "    custom_ref1_spectrum_path = 'tardis/spectrum/tests/test_spectrum_solver/test_spectrum_solver/TestSpectrumSolver.h5'\n",
    "\n",
    "if os.getenv('CUSTOM_REF2_SPECTRUM_PATH'):\n",
    "    custom_ref2_spectrum_path = os.getenv('CUSTOM_REF2_SPECTRUM_PATH')\n",
    "else:\n",
    "    custom_ref2_spectrum_path = 'tardis/spectrum/tests/test_spectrum_solver/test_spectrum_solver/TestSpectrumSolver.h5'\n"
   ]
  },
  {
   "cell_type": "code",
   "execution_count": null,
   "id": "3e1e3ea8",
   "metadata": {},
   "outputs": [],
   "source": [
    "first_version = Path(custom_ref1_spectrum_path).parts[1]\n",
    "second_version = Path(custom_ref2_spectrum_path).parts[1]\n",
    "print(f\"Comparing {first_version} vs {second_version}\")"
   ]
  },
  {
   "cell_type": "markdown",
   "id": "7ba10944",
   "metadata": {},
   "source": [
    "# Spectrum Comparison\n",
    "\n",
    "You can compare TARDIS spectra for the two commits and also provide a custom path for the spectra."
   ]
  },
  {
   "cell_type": "code",
   "execution_count": null,
   "id": "d99bd0a9",
   "metadata": {
    "scrolled": true
   },
   "outputs": [],
   "source": [
    "ReferenceComparer.compare_testspectrumsolver_hdf(\n",
    "    custom_ref1_path=custom_ref1_spectrum_path, \n",
    "    custom_ref2_path=custom_ref2_spectrum_path\n",
    ")"
   ]
  }
 ],
 "metadata": {
  "kernelspec": {
   "display_name": "tardis",
   "language": "python",
   "name": "python3"
  },
  "language_info": {
   "codemirror_mode": {
    "name": "ipython",
    "version": 3
   },
   "file_extension": ".py",
   "mimetype": "text/x-python",
   "name": "python",
   "nbconvert_exporter": "python",
   "pygments_lexer": "ipython3",
   "version": "3.12.4"
  },
  "varInspector": {
   "cols": {
    "lenName": 16,
    "lenType": 16,
    "lenVar": 40
   },
   "kernels_config": {
    "python": {
     "delete_cmd_postfix": "",
     "delete_cmd_prefix": "del ",
     "library": "var_list.py",
     "varRefreshCmd": "print(var_dic_list())"
    },
    "r": {
     "delete_cmd_postfix": ") ",
     "delete_cmd_prefix": "rm(",
     "library": "var_list.r",
     "varRefreshCmd": "cat(var_dic_list()) "
    }
   },
   "types_to_exclude": [
    "module",
    "function",
    "builtin_function_or_method",
    "instance",
    "_Feature"
   ],
   "window_display": false
  }
 },
 "nbformat": 4,
 "nbformat_minor": 5
}
